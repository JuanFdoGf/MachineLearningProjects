{
  "nbformat": 4,
  "nbformat_minor": 0,
  "metadata": {
    "colab": {
      "provenance": [],
      "authorship_tag": "ABX9TyNlpdRYaRzTFzpVeMNXUQUD",
      "include_colab_link": true
    },
    "kernelspec": {
      "name": "python3",
      "display_name": "Python 3"
    },
    "language_info": {
      "name": "python"
    }
  },
  "cells": [
    {
      "cell_type": "markdown",
      "metadata": {
        "id": "view-in-github",
        "colab_type": "text"
      },
      "source": [
        "<a href=\"https://colab.research.google.com/github/JuanFdoGf/MachineLearningProjects/blob/main/Titanic_Survival_Prediction.ipynb\" target=\"_parent\"><img src=\"https://colab.research.google.com/assets/colab-badge.svg\" alt=\"Open In Colab\"/></a>"
      ]
    },
    {
      "cell_type": "code",
      "execution_count": 1,
      "metadata": {
        "colab": {
          "base_uri": "https://localhost:8080/"
        },
        "id": "TRIOWT-WGrtL",
        "outputId": "88b3bf29-905c-4c4c-c098-295ed1e0416b"
      },
      "outputs": [
        {
          "output_type": "stream",
          "name": "stdout",
          "text": [
            "Cloning into '/content/repo'...\n",
            "remote: Enumerating objects: 27, done.\u001b[K\n",
            "remote: Counting objects: 100% (27/27), done.\u001b[K\n",
            "remote: Compressing objects: 100% (21/21), done.\u001b[K\n",
            "remote: Total 27 (delta 7), reused 7 (delta 1), pack-reused 0 (from 0)\u001b[K\n",
            "Receiving objects: 100% (27/27), 316.84 KiB | 1.78 MiB/s, done.\n",
            "Resolving deltas: 100% (7/7), done.\n"
          ]
        }
      ],
      "source": [
        "!git clone https://github.com/JuanFdoGf/MachineLearningProjects /content/repo"
      ]
    },
    {
      "cell_type": "code",
      "source": [
        "# Importar el template\n",
        "%run /content/repo/utils/github_sync.ipynb\n",
        "\n",
        "# Configurar con el token (de forma segura)\n",
        "from getpass import getpass\n",
        "github_token = getpass('Ingresa tu GitHub token:')\n",
        "repo_url = 'https://github.com/JuanFdoGf/MachineLearningProjects'\n",
        "\n",
        "# Inicializar la sincronización\n",
        "setup_github_sync(github_token, repo_url)"
      ],
      "metadata": {
        "id": "U7w3wWDXHL4K",
        "colab": {
          "base_uri": "https://localhost:8080/"
        },
        "outputId": "c55b26bb-71ce-46c7-ede5-3327dd17559d"
      },
      "execution_count": 2,
      "outputs": [
        {
          "output_type": "stream",
          "name": "stdout",
          "text": [
            "Ingresa tu GitHub token:··········\n",
            "Actualizando repositorio existente...\n",
            "✅ Repositorio sincronizado correctamente\n"
          ]
        }
      ]
    },
    {
      "cell_type": "code",
      "source": [
        "!pwd\n",
        "!ls /content/repo"
      ],
      "metadata": {
        "colab": {
          "base_uri": "https://localhost:8080/"
        },
        "id": "PtpUP0C2x6Wu",
        "outputId": "59c49dbe-de54-4166-d77c-01e7aaa1533d"
      },
      "execution_count": 3,
      "outputs": [
        {
          "output_type": "stream",
          "name": "stdout",
          "text": [
            "/content/repo\n",
            "data  models  notebooks  README.md  reports  scripts  utils\n"
          ]
        }
      ]
    },
    {
      "cell_type": "code",
      "source": [],
      "metadata": {
        "id": "wUhKsKF_yFII"
      },
      "execution_count": null,
      "outputs": []
    }
  ]
}